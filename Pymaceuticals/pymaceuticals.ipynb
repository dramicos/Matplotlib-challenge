{
 "cells": [
  {
   "cell_type": "markdown",
   "metadata": {},
   "source": [
    "## Observations and Insights "
   ]
  },
  {
   "cell_type": "markdown",
   "metadata": {},
   "source": [
    "Some observations to be made are that we ultimately look at Capomulin, but Ramicone may be slightly better based off the overall results of tumor size and the quartile data and the fact that it has more data points as well.\n",
    "\n",
    "As for the Capomulin we can see per the line plot, that at least for some mice, the final tumor size is not necessarily the smallest.  This would suggest that a longer trial will be needed to ensure the treatments continue an overall downward trend.\n",
    "\n",
    "This study showed that younger/smaller mice had smaller tumors leading me to think that there may exist an age bias in the data in that the tumor size will be weighted towards the older/larger mice in the summary statistics.  I would suggest using only mice of the same age/size in any given study rather than confounding the data.\n"
   ]
  },
  {
   "cell_type": "code",
   "execution_count": null,
   "metadata": {},
   "outputs": [],
   "source": [
    "# Dependencies and Setup\n",
    "import matplotlib.pyplot as plt\n",
    "import pandas as pd\n",
    "import scipy.stats as st\n",
    "import numpy as np\n",
    "\n",
    "# Study data files\n",
    "mouse_metadata_path = \"data/Mouse_metadata.csv\"\n",
    "study_results_path = \"data/Study_results.csv\"\n",
    "\n",
    "# Read the mouse data and the study results\n",
    "mouse_metadata = pd.read_csv(mouse_metadata_path)\n",
    "study_results = pd.read_csv(study_results_path)"
   ]
  },
  {
   "cell_type": "code",
   "execution_count": null,
   "metadata": {},
   "outputs": [],
   "source": [
    "mouse_metadata.head()"
   ]
  },
  {
   "cell_type": "code",
   "execution_count": null,
   "metadata": {},
   "outputs": [],
   "source": [
    "study_results.head()"
   ]
  },
  {
   "cell_type": "code",
   "execution_count": null,
   "metadata": {},
   "outputs": [],
   "source": [
    "# Combine the data into a single dataset\n",
    "combined_mouse_data_df = pd.merge(mouse_metadata, study_results, how=\"outer\", on=\"Mouse ID\")\n",
    "# Display the data table for preview\n",
    "combined_mouse_data_df.head()"
   ]
  },
  {
   "cell_type": "code",
   "execution_count": null,
   "metadata": {},
   "outputs": [],
   "source": [
    "# Checking the number of mice.\n",
    "len(combined_mouse_data_df['Mouse ID'].unique())"
   ]
  },
  {
   "cell_type": "code",
   "execution_count": null,
   "metadata": {},
   "outputs": [],
   "source": [
    "# Getting the duplicate mice by ID number that shows up for Mouse ID and Timepoint. \n",
    "combined_mouse_data_df[[\"Mouse ID\", \"Timepoint\"]].value_counts()"
   ]
  },
  {
   "cell_type": "markdown",
   "metadata": {},
   "source": [
    "Here I can see that mouse g989 has 2 counts for each timepoint and so I know that is a duplicate"
   ]
  },
  {
   "cell_type": "code",
   "execution_count": null,
   "metadata": {},
   "outputs": [],
   "source": [
    "# Create a clean DataFrame by dropping the duplicate mouse by its ID. and check again\n",
    "cleaned_merged_data_df = combined_mouse_data_df.loc[combined_mouse_data_df['Mouse ID'] != 'g989']\n",
    "cleaned_merged_data_df[[\"Mouse ID\", \"Timepoint\"]].value_counts()"
   ]
  },
  {
   "cell_type": "code",
   "execution_count": null,
   "metadata": {},
   "outputs": [],
   "source": [
    "cleaned_merged_data_df.head()"
   ]
  },
  {
   "cell_type": "code",
   "execution_count": null,
   "metadata": {},
   "outputs": [],
   "source": [
    "# Checking the number of mice again to see that the bad mouse is out\n",
    "len(cleaned_merged_data_df['Mouse ID'].unique())"
   ]
  },
  {
   "cell_type": "code",
   "execution_count": null,
   "metadata": {},
   "outputs": [],
   "source": [
    "# Optional: Get all the data for the duplicate mouse ID. \n",
    "dupe_mouse_data_df = combined_mouse_data_df.loc[combined_mouse_data_df['Mouse ID'] == 'g989']\n",
    "dupe_mouse_data_df"
   ]
  },
  {
   "cell_type": "markdown",
   "metadata": {},
   "source": [
    "## Summary Statistics"
   ]
  },
  {
   "cell_type": "code",
   "execution_count": null,
   "metadata": {},
   "outputs": [],
   "source": [
    "# Setting up a new dataframe with just the values of interest\n",
    "tumor_volume_bydrug_df = cleaned_merged_data_df[['Drug Regimen', 'Tumor Volume (mm3)']]"
   ]
  },
  {
   "cell_type": "code",
   "execution_count": null,
   "metadata": {},
   "outputs": [],
   "source": [
    "# Generate a summary statistics table of mean, median, variance, standard deviation, and SEM of the tumor volume for each regimen\n",
    "# Use groupby and summary statistical methods to calculate the following properties of each drug regimen: \n",
    "drug_performance_gdf = tumor_volume_bydrug_df.groupby('Drug Regimen', as_index=False)"
   ]
  },
  {
   "cell_type": "code",
   "execution_count": null,
   "metadata": {},
   "outputs": [],
   "source": [
    "# mean, median, variance, standard deviation, and SEM of the tumor volume. \n",
    "mean_drug_performance_gdf = drug_performance_gdf.mean().rename(columns={'Tumor Volume (mm3)' : 'Tumor Volume (mm3) mean'})\n",
    "median_drug_performance_gdf = drug_performance_gdf.median().rename(columns={'Tumor Volume (mm3)' : 'Tumor Volume (mm3) median'})\n",
    "std_drug_performance_gdf = drug_performance_gdf.std().rename(columns={'Tumor Volume (mm3)' : 'Tumor Volume (mm3) std'})\n",
    "var_drug_performance_gdf = drug_performance_gdf.var().rename(columns={'Tumor Volume (mm3)' : 'Tumor Volume (mm3) var'})\n",
    "sem_drug_performance_gdf = drug_performance_gdf.sem().rename(columns={'Tumor Volume (mm3)' : 'Tumor Volume (mm3) sem'})"
   ]
  },
  {
   "cell_type": "code",
   "execution_count": null,
   "metadata": {},
   "outputs": [],
   "source": [
    "# Assemble the resulting series into a single summary dataframe.\n",
    "merged_drug_summaries_gdf = pd.merge(mean_drug_performance_gdf, median_drug_performance_gdf, how='outer', on='Drug Regimen')\n",
    "merged_drug_summaries_gdf = pd.merge(merged_drug_summaries_gdf, std_drug_performance_gdf, how='outer', on='Drug Regimen')\n",
    "merged_drug_summaries_gdf = pd.merge(merged_drug_summaries_gdf, var_drug_performance_gdf, how='outer', on='Drug Regimen')\n",
    "merged_drug_summaries_gdf = pd.merge(merged_drug_summaries_gdf, sem_drug_performance_gdf, how='outer', on='Drug Regimen')\n",
    "merged_drug_summaries_gdf = merged_drug_summaries_gdf.set_index('Drug Regimen')\n",
    "merged_drug_summaries_gdf"
   ]
  },
  {
   "cell_type": "code",
   "execution_count": null,
   "metadata": {},
   "outputs": [],
   "source": [
    "# Generate a summary statistics table of mean, median, variance, standard deviation, and SEM of the tumor volume for each regimen\n",
    "# Using the aggregation method, produce the same summary statistics in a single line\n",
    "aggs = cleaned_merged_data_df.groupby('Drug Regimen')['Tumor Volume (mm3)'].agg([np.mean, np.median, np.std, np.var, st.sem])\n",
    "aggs"
   ]
  },
  {
   "cell_type": "markdown",
   "metadata": {},
   "source": [
    "## Bar and Pie Charts"
   ]
  },
  {
   "cell_type": "code",
   "execution_count": null,
   "metadata": {},
   "outputs": [],
   "source": [
    "# Generate a bar plot showing the total number of timepoints for all mice tested for each drug regimen using Pandas.\n",
    "# Again make a new df for only values of interest\n",
    "drug_vs_timepoints_df = cleaned_merged_data_df[['Drug Regimen', 'Timepoint']]"
   ]
  },
  {
   "cell_type": "code",
   "execution_count": null,
   "metadata": {},
   "outputs": [],
   "source": [
    "# A table of total timepoint counts\n",
    "total_timepoints = drug_vs_timepoints_df['Drug Regimen'].value_counts()"
   ]
  },
  {
   "cell_type": "code",
   "execution_count": null,
   "metadata": {},
   "outputs": [],
   "source": [
    "figure1 = total_timepoints.plot(kind=\"bar\", facecolor=\"red\", figsize=(8,6),\n",
    "                                title=\"Total timepoints for all mice tested for each drug regimen\",\n",
    "                                xlabel=\"Drug Regimen\",\n",
    "                                ylabel=\"Total timepoints\")\n",
    "treatments = drug_vs_timepoints_df['Drug Regimen'].unique()\n",
    "\n",
    "# Configure x-tick axis\n",
    "\n",
    "figure1.set_xticklabels(treatments, rotation=45, rotation_mode=\"anchor\", ha=\"right\")\n",
    "\n",
    "# Show plot\n",
    "plt.show()"
   ]
  },
  {
   "cell_type": "code",
   "execution_count": null,
   "metadata": {},
   "outputs": [],
   "source": [
    "# Generate a bar plot showing the total number of timepoints for all mice tested for each drug regimen using pyplot.\n",
    "x_axis = np.arange(len(drug_vs_timepoints_df['Drug Regimen'].unique()))\n",
    "tick_locations = [value+0.4 for value in x_axis]\n",
    "\n",
    "plt.figure(figsize=(8,6))\n",
    "plt.bar(x_axis, total_timepoints, color='r', alpha=0.5, align=\"edge\")\n",
    "plt.xticks(tick_locations, drug_vs_timepoints_df['Drug Regimen'].unique(), rotation=45)\n",
    "plt.xlabel('Drug Regimen')\n",
    "plt.ylabel('Total Number of Timepoints')\n",
    "plt.title(\"Total timepoints for all mice tested for each drug regimen\")\n",
    "plt.tight_layout()\n",
    "plt.show()"
   ]
  },
  {
   "cell_type": "code",
   "execution_count": null,
   "metadata": {},
   "outputs": [],
   "source": [
    "# Generate a pie plot showing the distribution of female versus male mice using Pandas\n",
    "gender_dist = cleaned_merged_data_df['Sex']\n",
    "gender_dist_count = gender_dist.value_counts() \n",
    "gender_dist_count\n",
    "# Note that this is the number of times a mouse is tested by gender, not the number of mice of a gender"
   ]
  },
  {
   "cell_type": "code",
   "execution_count": null,
   "metadata": {},
   "outputs": [],
   "source": [
    "figure2 = gender_dist_count.plot(kind=\"pie\", y='gender_dist_count', title=\"Gender Distribution of Mice\", autopct=\"%1.1f%%\")\n",
    "plt.axis(\"equal\")\n",
    "plt.show()"
   ]
  },
  {
   "cell_type": "code",
   "execution_count": null,
   "metadata": {},
   "outputs": [],
   "source": [
    "# Generate a pie plot showing the distribution of female versus male mice using pyplot\n",
    "gender = ['Male', 'Female']\n",
    "explode = (0.1,0)\n",
    "plt.pie(gender_dist_count, explode=explode, labels=gender, autopct=\"%1.1f%%\", shadow=True)\n",
    "plt.axis(\"equal\")\n",
    "plt.ylabel(\"Sex\")\n",
    "plt.title(\"Gender Distribution of Mice\")\n",
    "plt.show()"
   ]
  },
  {
   "cell_type": "markdown",
   "metadata": {},
   "source": [
    "## Quartiles, Outliers and Boxplots"
   ]
  },
  {
   "cell_type": "code",
   "execution_count": null,
   "metadata": {},
   "outputs": [],
   "source": [
    "# Calculate the final tumor volume of each mouse across four of the treatment regimens:  \n",
    "# Capomulin, Ramicane, Infubinol, and Ceftamin\n",
    "\n",
    "# Start by getting the last (greatest) timepoint for each mouse\n",
    "last_time_cleaned_merged_data_gdf = cleaned_merged_data_df.groupby('Mouse ID')[\"Timepoint\"].last()\n",
    "last_time_cleaned_merged_data_gdf"
   ]
  },
  {
   "cell_type": "code",
   "execution_count": null,
   "metadata": {},
   "outputs": [],
   "source": [
    "# Merge this group df with the original dataframe to get the tumor volume at the last timepoint\n",
    "final_tumor_data_gdf = pd.merge(cleaned_merged_data_df, last_time_cleaned_merged_data_gdf, how=\"right\", on=[\"Mouse ID\", \"Timepoint\"])\n",
    "final_tumor_data_gdf"
   ]
  },
  {
   "cell_type": "code",
   "execution_count": null,
   "metadata": {},
   "outputs": [],
   "source": [
    "# Put treatments into a list for for loop (and later for plot labels)\n",
    "candidate_drugs = ['Capomulin', 'Ceftamin', 'Infubinol', 'Ramicane']"
   ]
  },
  {
   "cell_type": "code",
   "execution_count": null,
   "metadata": {},
   "outputs": [],
   "source": [
    "# Get the df down to just the candidates\n",
    "candidate_treatments_results_gdf = final_tumor_data_gdf.loc[(final_tumor_data_gdf['Drug Regimen']==candidate_drugs[0]) |\n",
    "                                                     (final_tumor_data_gdf['Drug Regimen']==candidate_drugs[1]) | \n",
    "                                                     (final_tumor_data_gdf['Drug Regimen']==candidate_drugs[2])|\n",
    "                                                     (final_tumor_data_gdf['Drug Regimen']==candidate_drugs[3])]\n",
    "candidate_treatments_results_gdf = candidate_treatments_results_gdf.sort_values([\"Drug Regimen\", \"Mouse ID\"]).reset_index(drop=True)\n",
    "candidate_treatments_results_gdf"
   ]
  },
  {
   "cell_type": "markdown",
   "metadata": {},
   "source": [
    "We now have the data down to only 100 rows indicating success."
   ]
  },
  {
   "cell_type": "code",
   "execution_count": null,
   "metadata": {},
   "outputs": [],
   "source": [
    "# Create empty list to fill with tumor vol data (for plotting)\n",
    "tumor_volumes = []"
   ]
  },
  {
   "cell_type": "code",
   "execution_count": null,
   "metadata": {},
   "outputs": [],
   "source": [
    "# Locate the rows which contain mice on each drug and get the tumor volumes\n",
    "for drug in candidate_drugs:\n",
    "    tumor_volumes.append(candidate_treatments_results_gdf.loc[candidate_treatments_results_gdf['Drug Regimen']==drug, 'Tumor Volume (mm3)'])\n"
   ]
  },
  {
   "cell_type": "code",
   "execution_count": null,
   "metadata": {},
   "outputs": [],
   "source": [
    "# Calculate the IQR and quantitatively determine if there are any potential outliers. \n",
    "for x in range(len(candidate_drugs)):\n",
    "    quartiles = tumor_volumes[x].quantile([.25,.5,.75])\n",
    "    lowerq = quartiles[0.25]\n",
    "    upperq = quartiles[0.75]\n",
    "    iqr = upperq-lowerq\n",
    "\n",
    "    print(f\"The lower quartile of {candidate_drugs[x]} is: {lowerq}\")\n",
    "    print(f\"The upper quartile of {candidate_drugs[x]} is: {upperq}\")\n",
    "    print(f\"The interquartile range of {candidate_drugs[x]} is: {iqr}\")\n",
    "    print(f\"The the median of {candidate_drugs[x]} is: {quartiles[0.5]} \")\n",
    "\n",
    "    # Determine outliers using upper and lower bounds\n",
    "    lower_bound = lowerq - (1.5*iqr)\n",
    "    upper_bound = upperq + (1.5*iqr)\n",
    "    if (tumor_volumes[x].max() > upper_bound):\n",
    "        print(f\"The value of {tumor_volumes[x].max()} in {candidate_drugs[x]} could be an outlier.\")\n",
    "    elif (tumor_volumes[x].min() < lower_bound):\n",
    "        print(f\"The value of {tumor_volumes[x].min()} in {candidate_drugs[x]} could be an outlier.\")\n",
    "    else:\n",
    "        print(f\"The treatment {candidate_drugs[x]} does not have any outliers.\")\n",
    "    \n",
    "    print(\"\")"
   ]
  },
  {
   "cell_type": "code",
   "execution_count": null,
   "metadata": {},
   "outputs": [],
   "source": [
    "# Generate a box plot of the final tumor volume of each mouse across four regimens of interest\n",
    "fig1, ax1 = plt.subplots()\n",
    "ax1.set_title(\"Tumor Volumes at the End of Each Treatment\")\n",
    "ax1.boxplot(tumor_volumes, labels=candidate_drugs)\n",
    "plt.xlabel(\"Candidate Treatments\")\n",
    "plt.ylabel(\"Tumor Size at End of Treatment\")\n",
    "plt.show()"
   ]
  },
  {
   "cell_type": "markdown",
   "metadata": {},
   "source": [
    "In the figure above as well as in the calculated values, we can see that Infubinol has a potential outlier."
   ]
  },
  {
   "cell_type": "markdown",
   "metadata": {},
   "source": [
    "## Line and Scatter Plots"
   ]
  },
  {
   "cell_type": "code",
   "execution_count": null,
   "metadata": {},
   "outputs": [],
   "source": [
    "# Generate a line plot of tumor volume vs. time point for a mouse treated with Capomulin\n",
    "# First reduce the data to only to one mouse from the Capomulin results\n",
    "\n",
    "single_mouse_in_capo_study = cleaned_merged_data_df.loc[(cleaned_merged_data_df['Mouse ID'] == 'b742') & (cleaned_merged_data_df['Drug Regimen'] == candidate_drugs[0]) ]\n",
    "\n",
    "# Get the X-axis\n",
    "\n",
    "x_axis = single_mouse_in_capo_study.iloc[:,5]\n",
    "tumor_vol = single_mouse_in_capo_study.iloc[:,6]\n",
    "\n",
    "plt.plot(x_axis, tumor_vol, marker='o', color='blue', label='b742')\n",
    "plt.title(\"Mouse b742 Under Treatment by Capomulin\")\n",
    "plt.xlabel('Time (days)')\n",
    "plt.ylabel('Tumor Volume (mm3)')\n",
    "plt.show()"
   ]
  },
  {
   "cell_type": "code",
   "execution_count": null,
   "metadata": {},
   "outputs": [],
   "source": [
    "# Generate a scatter plot of average tumor volume vs. mouse weight for the Capomulin regimen\n",
    "capomulin_study = cleaned_merged_data_df.loc[(cleaned_merged_data_df['Drug Regimen']==candidate_drugs[0])]"
   ]
  },
  {
   "cell_type": "code",
   "execution_count": null,
   "metadata": {},
   "outputs": [],
   "source": [
    "# Get averages for weights and tumor volumes\n",
    "capo_weight = capomulin_study.groupby('Mouse ID')['Weight (g)'].mean()\n",
    "capo_tumor = capomulin_study.groupby('Mouse ID')['Tumor Volume (mm3)'].mean()"
   ]
  },
  {
   "cell_type": "code",
   "execution_count": null,
   "metadata": {},
   "outputs": [],
   "source": [
    "#mouse_weight =  capomulin_study.iloc[:,4] \n",
    "plt.scatter(capo_weight, capo_tumor)\n",
    "plt.xticks(capo_weight)\n",
    "plt.title(\"Total Tumor Size vs. Mouse Weight in Treatment Capomulin\")\n",
    "plt.xlabel('Mouse Weight (g)')\n",
    "plt.ylabel('Tumor Volume (mm3)')\n",
    "plt.show()"
   ]
  },
  {
   "cell_type": "markdown",
   "metadata": {},
   "source": [
    "## Correlation and Regression"
   ]
  },
  {
   "cell_type": "code",
   "execution_count": null,
   "metadata": {},
   "outputs": [],
   "source": [
    "# Calculate the correlation coefficient and linear regression model \n",
    "# for mouse weight and average tumor volume for the Capomulin regimen\n",
    "(slope, intercept, rvalue, pvalue, stderr) = st.linregress(capo_weight, capo_tumor)\n",
    "regress_values = capo_weight * slope + intercept\n",
    "line_eq = \"y = \" + str(round(slope,2)) + \"x + \" + str(round(intercept,2))"
   ]
  },
  {
   "cell_type": "code",
   "execution_count": null,
   "metadata": {},
   "outputs": [],
   "source": [
    "plt.scatter(capo_weight, capo_tumor)\n",
    "plt.plot(capo_weight,regress_values,\"r-\")\n",
    "plt.annotate(line_eq,(19,25),fontsize=15,color=\"red\")\n",
    "plt.xticks(capo_weight)\n",
    "plt.title(\"Total Tumor Size vs. Mouse Weight in Treatment Capomulin\")\n",
    "plt.xlabel('Mouse Weight (g)')\n",
    "plt.ylabel('Tumor Volume (mm3)')\n",
    "print(f\"The r-squared is: {rvalue**2}\")\n",
    "plt.show()"
   ]
  },
  {
   "cell_type": "code",
   "execution_count": null,
   "metadata": {},
   "outputs": [],
   "source": []
  }
 ],
 "metadata": {
  "anaconda-cloud": {},
  "kernelspec": {
   "display_name": "PythonData38",
   "language": "python",
   "name": "pythondata38"
  },
  "language_info": {
   "codemirror_mode": {
    "name": "ipython",
    "version": 3
   },
   "file_extension": ".py",
   "mimetype": "text/x-python",
   "name": "python",
   "nbconvert_exporter": "python",
   "pygments_lexer": "ipython3",
   "version": "3.9.12"
  }
 },
 "nbformat": 4,
 "nbformat_minor": 4
}
